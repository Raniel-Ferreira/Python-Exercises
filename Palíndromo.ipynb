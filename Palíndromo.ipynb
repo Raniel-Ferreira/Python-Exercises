{
  "nbformat": 4,
  "nbformat_minor": 0,
  "metadata": {
    "colab": {
      "name": "Palíndromo.ipynb",
      "provenance": [],
      "collapsed_sections": [],
      "authorship_tag": "ABX9TyP2WZAL9MsTh+1qGgn/RAND",
      "include_colab_link": true
    },
    "kernelspec": {
      "name": "python3",
      "display_name": "Python 3"
    },
    "language_info": {
      "name": "python"
    }
  },
  "cells": [
    {
      "cell_type": "markdown",
      "metadata": {
        "id": "view-in-github",
        "colab_type": "text"
      },
      "source": [
        "<a href=\"https://colab.research.google.com/github/Raniel-Ferreira/Python-Exercises/blob/main/Pal%C3%ADndromo.ipynb\" target=\"_parent\"><img src=\"https://colab.research.google.com/assets/colab-badge.svg\" alt=\"Open In Colab\"/></a>"
      ]
    },
    {
      "cell_type": "code",
      "metadata": {
        "colab": {
          "base_uri": "https://localhost:8080/"
        },
        "id": "VI18BI3s_qbq",
        "outputId": "3c1bb526-bbff-4698-95e7-1b48850bd7bd"
      },
      "source": [
        "\n",
        "def eh_palindromo(frase):\n",
        "  frase = frase.lower().rstrip(\" ,.;:-_!?\")\n",
        "  inicio = 0\n",
        "  fim = len(frase) - 1\n",
        "  for i in range(len(frase)//2):\n",
        "      if frase[inicio] != frase[fim]:\n",
        "        return False\n",
        "      inicio = inicio + 1\n",
        "      fim = fim - 1\n",
        "  return True\n",
        "\n",
        "p = input ('Vamos ver se é palíndromo? Escreva: ')\n",
        "eh_palindromo(p)\n"
      ],
      "execution_count": 18,
      "outputs": [
        {
          "output_type": "stream",
          "text": [
            "Vamos ver se é palíndromo? Escreva: girafarig\n"
          ],
          "name": "stdout"
        },
        {
          "output_type": "execute_result",
          "data": {
            "text/plain": [
              "True"
            ]
          },
          "metadata": {
            "tags": []
          },
          "execution_count": 18
        }
      ]
    }
  ]
}